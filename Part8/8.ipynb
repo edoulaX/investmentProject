{
 "cells": [
  {
   "cell_type": "code",
   "id": "initial_id",
   "metadata": {
    "collapsed": true,
    "ExecuteTime": {
     "end_time": "2024-06-20T22:05:37.465293Z",
     "start_time": "2024-06-20T22:05:37.449196Z"
    }
   },
   "source": [
    "import pandas as pd\n",
    "import numpy as np"
   ],
   "outputs": [],
   "execution_count": 87
  },
  {
   "metadata": {},
   "cell_type": "markdown",
   "source": "# 8A",
   "id": "2971cb34cfaa545a"
  },
  {
   "metadata": {
    "ExecuteTime": {
     "end_time": "2024-06-20T22:05:37.565251Z",
     "start_time": "2024-06-20T22:05:37.481093Z"
    }
   },
   "cell_type": "code",
   "source": [
    "# columns = [ 'NoDur', 'Durbl', 'Manuf', 'Enrgy', 'Chems', 'BusEq', 'Telcm', 'Utils', 'Shops', 'Hlth', 'Money', 'Other']\n",
    "nodur = pd.read_csv('NoDur.csv', delimiter=';')\n",
    "durbl = pd.read_csv('Durbl.csv', delimiter=';')\n",
    "manuf = pd.read_csv('Manuf.csv', delimiter=';')\n",
    "enrgy = pd.read_csv('Enrgy.csv', delimiter=';')\n",
    "chems = pd.read_csv('Chems.csv', delimiter=';')\n",
    "buseq = pd.read_csv('BusEq.csv', delimiter=';')\n",
    "telcm = pd.read_csv('Telcm.csv', delimiter=';')\n",
    "utils = pd.read_csv('Utils.csv', delimiter=';')\n",
    "shops = pd.read_csv('Shops.csv', delimiter=';')\n",
    "hlth = pd.read_csv('Hlth.csv', delimiter=';')\n",
    "money = pd.read_csv('Money.csv', delimiter=';')\n",
    "other = pd.read_csv('Other.csv', delimiter=';')\n"
   ],
   "id": "fc190b236e89331a",
   "outputs": [],
   "execution_count": 88
  },
  {
   "metadata": {
    "ExecuteTime": {
     "end_time": "2024-06-20T22:05:37.580696Z",
     "start_time": "2024-06-20T22:05:37.568309Z"
    }
   },
   "cell_type": "code",
   "source": [
    "industry_dfs = {\n",
    "    'nodur': nodur,\n",
    "    'durbl': durbl,\n",
    "    'manuf': manuf,\n",
    "    'enrgy': enrgy,\n",
    "    'chems': chems,\n",
    "    'buseq': buseq,\n",
    "    'telcm': telcm,\n",
    "    'utils': utils,\n",
    "    'shops': shops,\n",
    "    'hlth': hlth,\n",
    "    'money': money,\n",
    "    'other': other\n",
    "}\n"
   ],
   "id": "1ac522af645c5cb2",
   "outputs": [],
   "execution_count": 89
  },
  {
   "metadata": {
    "ExecuteTime": {
     "end_time": "2024-06-20T22:05:37.628282Z",
     "start_time": "2024-06-20T22:05:37.581217Z"
    }
   },
   "cell_type": "code",
   "source": [
    "industries = pd.DataFrame(columns=['mean', 'std', 'sharpe', 't-stat'])\n",
    "\n",
    "# for each industry dataframe compute mean, std, sharpe ratio and t-stat from column 'fund2'\n",
    "for name, df in industry_dfs.items():\n",
    "    mean = df['fund2'].mean() * 12\n",
    "    std = df['fund2'].std() * np.sqrt(12)\n",
    "    excess = df['fund2'] - df['rf']\n",
    "    sharpe = (excess.mean() / df['fund2'].std()) * np.sqrt(12)\n",
    "    t_stat = mean / (std / np.sqrt(len(df)))\n",
    "    row = pd.DataFrame({'mean': [mean], 'std': [std], 'sharpe': [sharpe], 't-stat': [t_stat]}, index=[name])\n",
    "    industries = pd.concat([industries, row])\n"
   ],
   "id": "80b38ec12a8f3b81",
   "outputs": [
    {
     "name": "stderr",
     "output_type": "stream",
     "text": [
      "C:\\Users\\ratas\\AppData\\Local\\Temp\\ipykernel_6556\\2461961039.py:11: FutureWarning: The behavior of DataFrame concatenation with empty or all-NA entries is deprecated. In a future version, this will no longer exclude empty or all-NA columns when determining the result dtypes. To retain the old behavior, exclude the relevant entries before the concat operation.\n",
      "  industries = pd.concat([industries, row])\n"
     ]
    }
   ],
   "execution_count": 90
  },
  {
   "metadata": {
    "ExecuteTime": {
     "end_time": "2024-06-20T22:05:37.659940Z",
     "start_time": "2024-06-20T22:05:37.628282Z"
    }
   },
   "cell_type": "code",
   "source": "industries",
   "id": "3e2a801c7a37e9e1",
   "outputs": [
    {
     "data": {
      "text/plain": [
       "           mean       std    sharpe     t-stat\n",
       "nodur  0.116560  0.100687  0.735613  29.400683\n",
       "durbl  0.086383  0.101056  0.435892  21.726169\n",
       "manuf  0.133312  0.100945  0.901051  33.592058\n",
       "enrgy  0.097414  0.100699  0.546024  24.549166\n",
       "chems  0.099348  0.100905  0.565029  25.024217\n",
       "buseq  0.110592  0.100499  0.678975  27.990615\n",
       "telcm  0.082913  0.099868  0.404953  21.068719\n",
       "utils  0.102144  0.101074  0.589256  25.506080\n",
       "shops  0.116886  0.100560  0.741374  29.542881\n",
       "hlth   0.098812  0.100315  0.563013  25.035798\n",
       "money  0.131502  0.100839  0.884268  33.145195\n",
       "other  0.140455  0.100221  0.978836  35.647693"
      ],
      "text/html": [
       "<div>\n",
       "<style scoped>\n",
       "    .dataframe tbody tr th:only-of-type {\n",
       "        vertical-align: middle;\n",
       "    }\n",
       "\n",
       "    .dataframe tbody tr th {\n",
       "        vertical-align: top;\n",
       "    }\n",
       "\n",
       "    .dataframe thead th {\n",
       "        text-align: right;\n",
       "    }\n",
       "</style>\n",
       "<table border=\"1\" class=\"dataframe\">\n",
       "  <thead>\n",
       "    <tr style=\"text-align: right;\">\n",
       "      <th></th>\n",
       "      <th>mean</th>\n",
       "      <th>std</th>\n",
       "      <th>sharpe</th>\n",
       "      <th>t-stat</th>\n",
       "    </tr>\n",
       "  </thead>\n",
       "  <tbody>\n",
       "    <tr>\n",
       "      <th>nodur</th>\n",
       "      <td>0.116560</td>\n",
       "      <td>0.100687</td>\n",
       "      <td>0.735613</td>\n",
       "      <td>29.400683</td>\n",
       "    </tr>\n",
       "    <tr>\n",
       "      <th>durbl</th>\n",
       "      <td>0.086383</td>\n",
       "      <td>0.101056</td>\n",
       "      <td>0.435892</td>\n",
       "      <td>21.726169</td>\n",
       "    </tr>\n",
       "    <tr>\n",
       "      <th>manuf</th>\n",
       "      <td>0.133312</td>\n",
       "      <td>0.100945</td>\n",
       "      <td>0.901051</td>\n",
       "      <td>33.592058</td>\n",
       "    </tr>\n",
       "    <tr>\n",
       "      <th>enrgy</th>\n",
       "      <td>0.097414</td>\n",
       "      <td>0.100699</td>\n",
       "      <td>0.546024</td>\n",
       "      <td>24.549166</td>\n",
       "    </tr>\n",
       "    <tr>\n",
       "      <th>chems</th>\n",
       "      <td>0.099348</td>\n",
       "      <td>0.100905</td>\n",
       "      <td>0.565029</td>\n",
       "      <td>25.024217</td>\n",
       "    </tr>\n",
       "    <tr>\n",
       "      <th>buseq</th>\n",
       "      <td>0.110592</td>\n",
       "      <td>0.100499</td>\n",
       "      <td>0.678975</td>\n",
       "      <td>27.990615</td>\n",
       "    </tr>\n",
       "    <tr>\n",
       "      <th>telcm</th>\n",
       "      <td>0.082913</td>\n",
       "      <td>0.099868</td>\n",
       "      <td>0.404953</td>\n",
       "      <td>21.068719</td>\n",
       "    </tr>\n",
       "    <tr>\n",
       "      <th>utils</th>\n",
       "      <td>0.102144</td>\n",
       "      <td>0.101074</td>\n",
       "      <td>0.589256</td>\n",
       "      <td>25.506080</td>\n",
       "    </tr>\n",
       "    <tr>\n",
       "      <th>shops</th>\n",
       "      <td>0.116886</td>\n",
       "      <td>0.100560</td>\n",
       "      <td>0.741374</td>\n",
       "      <td>29.542881</td>\n",
       "    </tr>\n",
       "    <tr>\n",
       "      <th>hlth</th>\n",
       "      <td>0.098812</td>\n",
       "      <td>0.100315</td>\n",
       "      <td>0.563013</td>\n",
       "      <td>25.035798</td>\n",
       "    </tr>\n",
       "    <tr>\n",
       "      <th>money</th>\n",
       "      <td>0.131502</td>\n",
       "      <td>0.100839</td>\n",
       "      <td>0.884268</td>\n",
       "      <td>33.145195</td>\n",
       "    </tr>\n",
       "    <tr>\n",
       "      <th>other</th>\n",
       "      <td>0.140455</td>\n",
       "      <td>0.100221</td>\n",
       "      <td>0.978836</td>\n",
       "      <td>35.647693</td>\n",
       "    </tr>\n",
       "  </tbody>\n",
       "</table>\n",
       "</div>"
      ]
     },
     "execution_count": 91,
     "metadata": {},
     "output_type": "execute_result"
    }
   ],
   "execution_count": 91
  },
  {
   "metadata": {},
   "cell_type": "markdown",
   "source": "# 8B",
   "id": "ee433b53f9a0012a"
  },
  {
   "metadata": {
    "ExecuteTime": {
     "end_time": "2024-06-20T22:05:37.691531Z",
     "start_time": "2024-06-20T22:05:37.663012Z"
    }
   },
   "cell_type": "code",
   "source": [
    "# Step 1: Ensure all dataframes have a common column 'date' for merging\n",
    "for df in industry_dfs.values():\n",
    "    df.set_index('date', inplace=True)\n",
    "\n",
    "# Step 2: Concatenate all dataframes along column axis\n",
    "ew_industry_neutral = pd.concat(industry_dfs.values(), axis=1)"
   ],
   "id": "67b4d4f5b69e67e4",
   "outputs": [],
   "execution_count": 92
  },
  {
   "metadata": {
    "ExecuteTime": {
     "end_time": "2024-06-20T22:05:37.719445Z",
     "start_time": "2024-06-20T22:05:37.695456Z"
    }
   },
   "cell_type": "code",
   "source": [
    "\n",
    "# Step 3: Create a new column 'fund2_avg' that is the average of all 'fund2' columns\n",
    "ew_industry_neutral['fund2_avg'] = ew_industry_neutral['fund2'].mean(axis=1)\n",
    "ew_industry_neutral['rf_unique'] = ew_industry_neutral.iloc[:, 0]\n",
    "# Keep only the 'fund2_avg' column\n",
    "ew_industry_neutral = ew_industry_neutral[['fund2_avg', 'rf_unique']].dropna()\n",
    "ew_industry_neutral"
   ],
   "id": "86f0e8d86f516ad",
   "outputs": [
    {
     "data": {
      "text/plain": [
       "            fund2_avg  rf_unique\n",
       "date                            \n",
       "1973-01-01   0.017409   0.004643\n",
       "1973-02-01   0.005442   0.004650\n",
       "1973-03-01   0.004460   0.004896\n",
       "1973-04-01   0.008976   0.004989\n",
       "1973-05-01   0.008716   0.005439\n",
       "...               ...        ...\n",
       "2023-08-01   0.016029   0.004463\n",
       "2023-09-01  -0.006345   0.004472\n",
       "2023-10-01   0.008883   0.004475\n",
       "2023-11-01   0.028517   0.004455\n",
       "2023-12-01   0.000993   0.004484\n",
       "\n",
       "[610 rows x 2 columns]"
      ],
      "text/html": [
       "<div>\n",
       "<style scoped>\n",
       "    .dataframe tbody tr th:only-of-type {\n",
       "        vertical-align: middle;\n",
       "    }\n",
       "\n",
       "    .dataframe tbody tr th {\n",
       "        vertical-align: top;\n",
       "    }\n",
       "\n",
       "    .dataframe thead th {\n",
       "        text-align: right;\n",
       "    }\n",
       "</style>\n",
       "<table border=\"1\" class=\"dataframe\">\n",
       "  <thead>\n",
       "    <tr style=\"text-align: right;\">\n",
       "      <th></th>\n",
       "      <th>fund2_avg</th>\n",
       "      <th>rf_unique</th>\n",
       "    </tr>\n",
       "    <tr>\n",
       "      <th>date</th>\n",
       "      <th></th>\n",
       "      <th></th>\n",
       "    </tr>\n",
       "  </thead>\n",
       "  <tbody>\n",
       "    <tr>\n",
       "      <th>1973-01-01</th>\n",
       "      <td>0.017409</td>\n",
       "      <td>0.004643</td>\n",
       "    </tr>\n",
       "    <tr>\n",
       "      <th>1973-02-01</th>\n",
       "      <td>0.005442</td>\n",
       "      <td>0.004650</td>\n",
       "    </tr>\n",
       "    <tr>\n",
       "      <th>1973-03-01</th>\n",
       "      <td>0.004460</td>\n",
       "      <td>0.004896</td>\n",
       "    </tr>\n",
       "    <tr>\n",
       "      <th>1973-04-01</th>\n",
       "      <td>0.008976</td>\n",
       "      <td>0.004989</td>\n",
       "    </tr>\n",
       "    <tr>\n",
       "      <th>1973-05-01</th>\n",
       "      <td>0.008716</td>\n",
       "      <td>0.005439</td>\n",
       "    </tr>\n",
       "    <tr>\n",
       "      <th>...</th>\n",
       "      <td>...</td>\n",
       "      <td>...</td>\n",
       "    </tr>\n",
       "    <tr>\n",
       "      <th>2023-08-01</th>\n",
       "      <td>0.016029</td>\n",
       "      <td>0.004463</td>\n",
       "    </tr>\n",
       "    <tr>\n",
       "      <th>2023-09-01</th>\n",
       "      <td>-0.006345</td>\n",
       "      <td>0.004472</td>\n",
       "    </tr>\n",
       "    <tr>\n",
       "      <th>2023-10-01</th>\n",
       "      <td>0.008883</td>\n",
       "      <td>0.004475</td>\n",
       "    </tr>\n",
       "    <tr>\n",
       "      <th>2023-11-01</th>\n",
       "      <td>0.028517</td>\n",
       "      <td>0.004455</td>\n",
       "    </tr>\n",
       "    <tr>\n",
       "      <th>2023-12-01</th>\n",
       "      <td>0.000993</td>\n",
       "      <td>0.004484</td>\n",
       "    </tr>\n",
       "  </tbody>\n",
       "</table>\n",
       "<p>610 rows × 2 columns</p>\n",
       "</div>"
      ]
     },
     "execution_count": 93,
     "metadata": {},
     "output_type": "execute_result"
    }
   ],
   "execution_count": 93
  },
  {
   "metadata": {
    "ExecuteTime": {
     "end_time": "2024-06-20T22:06:02.873064Z",
     "start_time": "2024-06-20T22:06:02.842074Z"
    }
   },
   "cell_type": "code",
   "source": [
    "\n",
    "ew_industry_neutral_mean = ew_industry_neutral['fund2_avg'].mean() * 12\n",
    "ew_industry_neutral_std = ew_industry_neutral['fund2_avg'].std() * np.sqrt(12)\n",
    "excess_ew_industry_neutral = ew_industry_neutral['fund2_avg'] - ew_industry_neutral['rf_unique']\n",
    "ew_industry_neutral_sharpe = excess_ew_industry_neutral.mean() / ew_industry_neutral[\"fund2_avg\"].std() * np.sqrt(12)\n",
    "\n",
    "# Print the results\n",
    "print('Equal Weighted industry_neutral:')\n",
    "print('Mean:', ew_industry_neutral_mean)\n",
    "print('Standard Deviation:', ew_industry_neutral_std)\n",
    "print('Sharpe Ratio:', ew_industry_neutral_sharpe)\n",
    "print(\"\\n\")\n"
   ],
   "id": "9488b9223d2f787c",
   "outputs": [
    {
     "name": "stdout",
     "output_type": "stream",
     "text": [
      "Equal Weighted industry_neutral:\n",
      "Mean: 0.11034267343290158\n",
      "Standard Deviation: 0.05949854203963502\n",
      "Sharpe Ratio: 1.1403464888043717\n",
      "\n",
      "\n"
     ]
    }
   ],
   "execution_count": 95
  },
  {
   "metadata": {},
   "cell_type": "markdown",
   "source": "# 8C",
   "id": "cdf07c8eee11ed2a"
  },
  {
   "metadata": {
    "ExecuteTime": {
     "end_time": "2024-06-20T22:05:37.750776Z",
     "start_time": "2024-06-20T22:05:37.738837Z"
    }
   },
   "cell_type": "code",
   "source": "#TODO",
   "id": "bd7faeba40f2a790",
   "outputs": [],
   "execution_count": 94
  }
 ],
 "metadata": {
  "kernelspec": {
   "display_name": "Python 3",
   "language": "python",
   "name": "python3"
  },
  "language_info": {
   "codemirror_mode": {
    "name": "ipython",
    "version": 2
   },
   "file_extension": ".py",
   "mimetype": "text/x-python",
   "name": "python",
   "nbconvert_exporter": "python",
   "pygments_lexer": "ipython2",
   "version": "2.7.6"
  }
 },
 "nbformat": 4,
 "nbformat_minor": 5
}
