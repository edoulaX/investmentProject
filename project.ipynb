{
 "cells": [
  {
   "cell_type": "code",
   "outputs": [],
   "source": [
    "import numpy as np\n",
    "import datetime\n",
    "import pandas as pd\n",
    "import matplotlib.pyplot as plt\n",
    "import datetime\n",
    "import wrds\n",
    "db=wrds.Connection()\n",
    "#db.create_pgpass_file()"
   ],
   "metadata": {
    "collapsed": false
   },
   "execution_count": null
  },
  {
   "cell_type": "code",
   "outputs": [],
   "source": [
    "#---------------------------------------------\n",
    "# Risk Free Rate \n",
    "#---------------------------------------------\n",
    "Rf=db.raw_sql(\"\"\"select  mcaldt,tmytm \n",
    "           from crsp.tfz_mth_rf            \n",
    "            where kytreasnox = 2000001 \n",
    "           and mcaldt>='1964-01-01'\n",
    "            and mcaldt<='2023-12-31'\"\"\", date_cols=['mcaldt'])\n",
    "Rf['tmytm']=Rf['tmytm']/12/100\n",
    "Rf=Rf.rename(columns={ \"mcaldt\": \"date\",\"tmytm\": \"rf\"})\n",
    "\n",
    "\n",
    "#---------------------------------------------\n",
    "# Value Weighted Index Returns\n",
    "#---------------------------------------------\n",
    "Rm=db.raw_sql(\"\"\"select  date,vwretd from crsp.msi \n",
    "                where date>='1964-01-01' and date<='2023-12-31'\n",
    "                \"\"\",date_cols=['date'])\n",
    "Rm = Rm.rename(columns={'vwretd':'Rm'})\n",
    "\n",
    "#---------------------------------------------\n",
    "# Stock Returns \n",
    "#---------------------------------------------\n",
    "stock_data = db.raw_sql(\"\"\"\n",
    "                    select a.permno, a.date, \n",
    "                      b.shrcd, b.exchcd,\n",
    "                      a.ret, a.shrout, a.prc\n",
    "                      from crsp.msf as a\n",
    "                      left join crsp.msenames as b\n",
    "                      on a.permno=b.permno\n",
    "                      and b.namedt<=a.date\n",
    "                      and a.date<=b.nameendt\n",
    "                      where a.date between '01/01/1964' and '12/31/2023'\n",
    "                      and b.exchcd between 1 and 2\n",
    "                      and b.shrcd between 10 and 11\n",
    "                      \"\"\", date_cols=['date']) \n",
    "stock_data=stock_data.drop(['shrcd','exchcd'],axis=1)\n",
    "stock_data = stock_data.rename(columns={'ret':'Rn'})\n",
    "stock_data['mcap'] = np.abs(stock_data['prc'])*stock_data['shrout']\n",
    "stock_data['mcap_l'] = stock_data.groupby(['permno'])['mcap'].shift(1)\n",
    "\n",
    "\n",
    "#---------------------------------------------\n",
    "# Merge Data \n",
    "#---------------------------------------------\n",
    "data = pd.merge(stock_data, Rf, on=['date'], how='left')\n",
    "data = pd.merge(data, Rm, on=['date'], how='left')\n",
    "data['const'] = 1\n",
    "data['Rn_e'] = data['Rn']-data['rf']\n",
    "data['Rm_e'] = data['Rm']-data['rf']\n",
    "data.to_csv('data.csv', sep=';',index=False) # export data\n"
   ],
   "metadata": {
    "collapsed": false
   },
   "execution_count": 37
  }
 ],
 "metadata": {
  "language_info": {
   "name": "python"
  }
 },
 "nbformat": 4,
 "nbformat_minor": 2
}
