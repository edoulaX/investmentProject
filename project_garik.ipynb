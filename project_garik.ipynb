{
 "cells": [
  {
   "cell_type": "code",
   "execution_count": 2,
   "outputs": [],
   "source": [
    "import numpy as np\n",
    "import datetime\n",
    "import pandas as pd\n",
    "import matplotlib.pyplot as plt\n",
    "import datetime\n",
    "import wrds"
   ],
   "metadata": {
    "collapsed": false
   }
  },
  {
   "cell_type": "markdown",
   "source": [
    "# Part 5: Idiosyncratic Volatility Strategy (IV)"
   ],
   "metadata": {
    "collapsed": false
   }
  },
  {
   "cell_type": "code",
   "execution_count": 3,
   "outputs": [],
   "source": [
    "data = pd.read_csv(\"data.csv\",sep=\";\")\n",
    "data['date'] = pd.to_datetime(data['date'])\n",
    "data['date'] = data['date'].dt.to_period('M')\n",
    "data['date'] = data['date'].dt.to_timestamp()"
   ],
   "metadata": {
    "collapsed": false
   }
  },
  {
   "cell_type": "code",
   "execution_count": 4,
   "outputs": [
    {
     "data": {
      "text/plain": "         permno       date        Rn   shrout      prc       mcap      mcap_l  \\\n0         10028 1992-06-01 -0.206897   5632.0 -1.43750   8096.000         NaN   \n1         10028 1992-05-01 -0.205479   5548.0 -1.81250  10055.750   8096.0000   \n2         10028 1992-04-01 -0.170455   5548.0 -2.28125  12656.375  10055.7500   \n3         10028 1992-03-01  0.419355   5548.0  2.75000  15257.000  12656.3750   \n4         10028 1998-05-01  0.047619   4151.0  2.75000  11415.250  15257.0000   \n...         ...        ...       ...      ...      ...        ...         ...   \n1439403   93152 2017-10-01 -0.321678  29888.0  0.97000  28991.360  14937.5581   \n1439404   93152 2017-09-01 -0.239362  29888.0  1.43000  42739.840  28991.3600   \n1439405   93152 2017-08-01 -0.271318  29888.0  1.88000  56189.440  42739.8400   \n1439406   93152 2017-07-01  0.044534  29887.0  2.58000  77108.460  56189.4400   \n1439407   93152 2017-06-01 -0.270377  29887.0  2.47000  73820.890  77108.4600   \n\n               rf        Rm  const      Rn_e      Rm_e  \n0        0.002928 -0.019258      1 -0.209825 -0.022186  \n1        0.003030  0.006407      1 -0.208509  0.003377  \n2        0.002920  0.013414      1 -0.173375  0.010494  \n3        0.003343 -0.023699      1  0.416012 -0.027042  \n4        0.003806 -0.025746      1  0.043813 -0.029552  \n...           ...       ...    ...       ...       ...  \n1439403  0.000837  0.019275      1 -0.322515  0.018438  \n1439404  0.000799  0.023729      1 -0.240161  0.022930  \n1439405  0.000926  0.001600      1 -0.272244  0.000674  \n1439406  0.000811  0.020277      1  0.043723  0.019466  \n1439407  0.000714  0.009571      1 -0.271091  0.008857  \n\n[1439408 rows x 12 columns]",
      "text/html": "<div>\n<style scoped>\n    .dataframe tbody tr th:only-of-type {\n        vertical-align: middle;\n    }\n\n    .dataframe tbody tr th {\n        vertical-align: top;\n    }\n\n    .dataframe thead th {\n        text-align: right;\n    }\n</style>\n<table border=\"1\" class=\"dataframe\">\n  <thead>\n    <tr style=\"text-align: right;\">\n      <th></th>\n      <th>permno</th>\n      <th>date</th>\n      <th>Rn</th>\n      <th>shrout</th>\n      <th>prc</th>\n      <th>mcap</th>\n      <th>mcap_l</th>\n      <th>rf</th>\n      <th>Rm</th>\n      <th>const</th>\n      <th>Rn_e</th>\n      <th>Rm_e</th>\n    </tr>\n  </thead>\n  <tbody>\n    <tr>\n      <th>0</th>\n      <td>10028</td>\n      <td>1992-06-01</td>\n      <td>-0.206897</td>\n      <td>5632.0</td>\n      <td>-1.43750</td>\n      <td>8096.000</td>\n      <td>NaN</td>\n      <td>0.002928</td>\n      <td>-0.019258</td>\n      <td>1</td>\n      <td>-0.209825</td>\n      <td>-0.022186</td>\n    </tr>\n    <tr>\n      <th>1</th>\n      <td>10028</td>\n      <td>1992-05-01</td>\n      <td>-0.205479</td>\n      <td>5548.0</td>\n      <td>-1.81250</td>\n      <td>10055.750</td>\n      <td>8096.0000</td>\n      <td>0.003030</td>\n      <td>0.006407</td>\n      <td>1</td>\n      <td>-0.208509</td>\n      <td>0.003377</td>\n    </tr>\n    <tr>\n      <th>2</th>\n      <td>10028</td>\n      <td>1992-04-01</td>\n      <td>-0.170455</td>\n      <td>5548.0</td>\n      <td>-2.28125</td>\n      <td>12656.375</td>\n      <td>10055.7500</td>\n      <td>0.002920</td>\n      <td>0.013414</td>\n      <td>1</td>\n      <td>-0.173375</td>\n      <td>0.010494</td>\n    </tr>\n    <tr>\n      <th>3</th>\n      <td>10028</td>\n      <td>1992-03-01</td>\n      <td>0.419355</td>\n      <td>5548.0</td>\n      <td>2.75000</td>\n      <td>15257.000</td>\n      <td>12656.3750</td>\n      <td>0.003343</td>\n      <td>-0.023699</td>\n      <td>1</td>\n      <td>0.416012</td>\n      <td>-0.027042</td>\n    </tr>\n    <tr>\n      <th>4</th>\n      <td>10028</td>\n      <td>1998-05-01</td>\n      <td>0.047619</td>\n      <td>4151.0</td>\n      <td>2.75000</td>\n      <td>11415.250</td>\n      <td>15257.0000</td>\n      <td>0.003806</td>\n      <td>-0.025746</td>\n      <td>1</td>\n      <td>0.043813</td>\n      <td>-0.029552</td>\n    </tr>\n    <tr>\n      <th>...</th>\n      <td>...</td>\n      <td>...</td>\n      <td>...</td>\n      <td>...</td>\n      <td>...</td>\n      <td>...</td>\n      <td>...</td>\n      <td>...</td>\n      <td>...</td>\n      <td>...</td>\n      <td>...</td>\n      <td>...</td>\n    </tr>\n    <tr>\n      <th>1439403</th>\n      <td>93152</td>\n      <td>2017-10-01</td>\n      <td>-0.321678</td>\n      <td>29888.0</td>\n      <td>0.97000</td>\n      <td>28991.360</td>\n      <td>14937.5581</td>\n      <td>0.000837</td>\n      <td>0.019275</td>\n      <td>1</td>\n      <td>-0.322515</td>\n      <td>0.018438</td>\n    </tr>\n    <tr>\n      <th>1439404</th>\n      <td>93152</td>\n      <td>2017-09-01</td>\n      <td>-0.239362</td>\n      <td>29888.0</td>\n      <td>1.43000</td>\n      <td>42739.840</td>\n      <td>28991.3600</td>\n      <td>0.000799</td>\n      <td>0.023729</td>\n      <td>1</td>\n      <td>-0.240161</td>\n      <td>0.022930</td>\n    </tr>\n    <tr>\n      <th>1439405</th>\n      <td>93152</td>\n      <td>2017-08-01</td>\n      <td>-0.271318</td>\n      <td>29888.0</td>\n      <td>1.88000</td>\n      <td>56189.440</td>\n      <td>42739.8400</td>\n      <td>0.000926</td>\n      <td>0.001600</td>\n      <td>1</td>\n      <td>-0.272244</td>\n      <td>0.000674</td>\n    </tr>\n    <tr>\n      <th>1439406</th>\n      <td>93152</td>\n      <td>2017-07-01</td>\n      <td>0.044534</td>\n      <td>29887.0</td>\n      <td>2.58000</td>\n      <td>77108.460</td>\n      <td>56189.4400</td>\n      <td>0.000811</td>\n      <td>0.020277</td>\n      <td>1</td>\n      <td>0.043723</td>\n      <td>0.019466</td>\n    </tr>\n    <tr>\n      <th>1439407</th>\n      <td>93152</td>\n      <td>2017-06-01</td>\n      <td>-0.270377</td>\n      <td>29887.0</td>\n      <td>2.47000</td>\n      <td>73820.890</td>\n      <td>77108.4600</td>\n      <td>0.000714</td>\n      <td>0.009571</td>\n      <td>1</td>\n      <td>-0.271091</td>\n      <td>0.008857</td>\n    </tr>\n  </tbody>\n</table>\n<p>1439408 rows × 12 columns</p>\n</div>"
     },
     "execution_count": 4,
     "metadata": {},
     "output_type": "execute_result"
    }
   ],
   "source": [
    "data"
   ],
   "metadata": {
    "collapsed": false
   }
  },
  {
   "cell_type": "code",
   "execution_count": 5,
   "outputs": [],
   "source": [
    "# sort the data by date inside each permno\n",
    "data = data.sort_values(by=['permno','date']).reset_index(drop=True)"
   ],
   "metadata": {
    "collapsed": false
   }
  },
  {
   "cell_type": "code",
   "execution_count": 6,
   "outputs": [
    {
     "data": {
      "text/plain": "         permno       date        Rn   shrout      prc         mcap  \\\n0         10001 2009-12-01  0.162621   4361.0  10.3000   44918.3000   \n1         10001 2010-01-01 -0.018932   4361.0  10.0600   43871.6600   \n2         10001 2010-02-01 -0.000656   4361.0  10.0084   43646.6324   \n3         10001 2010-03-01  0.020643   4361.0  10.1700   44351.3700   \n4         10001 2010-04-01  0.124385   6070.0  11.3900   69137.3000   \n...         ...        ...       ...      ...      ...          ...   \n1439403   93426 2023-08-01 -0.037156  12581.0  36.0200  453167.6200   \n1439404   93426 2023-09-01 -0.067740  12581.0  33.5800  422469.9800   \n1439405   93426 2023-10-01 -0.108993  12581.0  29.9200  376423.5200   \n1439406   93426 2023-11-01  0.019051  12510.0  30.4900  381429.9000   \n1439407   93426 2023-12-01  0.117416  12510.0  34.0700  426215.7000   \n\n              mcap_l        rf        Rm  const      Rn_e      Rm_e  \n0         43871.6600  0.000032  0.028475      1  0.162589  0.028443  \n1         43646.6324  0.000013 -0.037172      1 -0.018945 -0.037185  \n2         44351.3700  0.000061  0.034744      1 -0.000717  0.034683  \n3         69137.3000  0.000112  0.063668      1  0.020531  0.063556  \n4         69209.4000  0.000118  0.020036      1  0.124267  0.019918  \n...              ...       ...       ...    ...       ...       ...  \n1439403  422469.9800  0.004463 -0.020605      1 -0.041619 -0.025068  \n1439404  376423.5200  0.004472 -0.047390      1 -0.072212 -0.051862  \n1439405  381429.9000  0.004475 -0.028867      1 -0.113468 -0.033342  \n1439406  426215.7000  0.004455  0.092057      1  0.014596  0.087602  \n1439407  155670.9000  0.004484  0.053468      1  0.112932  0.048984  \n\n[1439408 rows x 12 columns]",
      "text/html": "<div>\n<style scoped>\n    .dataframe tbody tr th:only-of-type {\n        vertical-align: middle;\n    }\n\n    .dataframe tbody tr th {\n        vertical-align: top;\n    }\n\n    .dataframe thead th {\n        text-align: right;\n    }\n</style>\n<table border=\"1\" class=\"dataframe\">\n  <thead>\n    <tr style=\"text-align: right;\">\n      <th></th>\n      <th>permno</th>\n      <th>date</th>\n      <th>Rn</th>\n      <th>shrout</th>\n      <th>prc</th>\n      <th>mcap</th>\n      <th>mcap_l</th>\n      <th>rf</th>\n      <th>Rm</th>\n      <th>const</th>\n      <th>Rn_e</th>\n      <th>Rm_e</th>\n    </tr>\n  </thead>\n  <tbody>\n    <tr>\n      <th>0</th>\n      <td>10001</td>\n      <td>2009-12-01</td>\n      <td>0.162621</td>\n      <td>4361.0</td>\n      <td>10.3000</td>\n      <td>44918.3000</td>\n      <td>43871.6600</td>\n      <td>0.000032</td>\n      <td>0.028475</td>\n      <td>1</td>\n      <td>0.162589</td>\n      <td>0.028443</td>\n    </tr>\n    <tr>\n      <th>1</th>\n      <td>10001</td>\n      <td>2010-01-01</td>\n      <td>-0.018932</td>\n      <td>4361.0</td>\n      <td>10.0600</td>\n      <td>43871.6600</td>\n      <td>43646.6324</td>\n      <td>0.000013</td>\n      <td>-0.037172</td>\n      <td>1</td>\n      <td>-0.018945</td>\n      <td>-0.037185</td>\n    </tr>\n    <tr>\n      <th>2</th>\n      <td>10001</td>\n      <td>2010-02-01</td>\n      <td>-0.000656</td>\n      <td>4361.0</td>\n      <td>10.0084</td>\n      <td>43646.6324</td>\n      <td>44351.3700</td>\n      <td>0.000061</td>\n      <td>0.034744</td>\n      <td>1</td>\n      <td>-0.000717</td>\n      <td>0.034683</td>\n    </tr>\n    <tr>\n      <th>3</th>\n      <td>10001</td>\n      <td>2010-03-01</td>\n      <td>0.020643</td>\n      <td>4361.0</td>\n      <td>10.1700</td>\n      <td>44351.3700</td>\n      <td>69137.3000</td>\n      <td>0.000112</td>\n      <td>0.063668</td>\n      <td>1</td>\n      <td>0.020531</td>\n      <td>0.063556</td>\n    </tr>\n    <tr>\n      <th>4</th>\n      <td>10001</td>\n      <td>2010-04-01</td>\n      <td>0.124385</td>\n      <td>6070.0</td>\n      <td>11.3900</td>\n      <td>69137.3000</td>\n      <td>69209.4000</td>\n      <td>0.000118</td>\n      <td>0.020036</td>\n      <td>1</td>\n      <td>0.124267</td>\n      <td>0.019918</td>\n    </tr>\n    <tr>\n      <th>...</th>\n      <td>...</td>\n      <td>...</td>\n      <td>...</td>\n      <td>...</td>\n      <td>...</td>\n      <td>...</td>\n      <td>...</td>\n      <td>...</td>\n      <td>...</td>\n      <td>...</td>\n      <td>...</td>\n      <td>...</td>\n    </tr>\n    <tr>\n      <th>1439403</th>\n      <td>93426</td>\n      <td>2023-08-01</td>\n      <td>-0.037156</td>\n      <td>12581.0</td>\n      <td>36.0200</td>\n      <td>453167.6200</td>\n      <td>422469.9800</td>\n      <td>0.004463</td>\n      <td>-0.020605</td>\n      <td>1</td>\n      <td>-0.041619</td>\n      <td>-0.025068</td>\n    </tr>\n    <tr>\n      <th>1439404</th>\n      <td>93426</td>\n      <td>2023-09-01</td>\n      <td>-0.067740</td>\n      <td>12581.0</td>\n      <td>33.5800</td>\n      <td>422469.9800</td>\n      <td>376423.5200</td>\n      <td>0.004472</td>\n      <td>-0.047390</td>\n      <td>1</td>\n      <td>-0.072212</td>\n      <td>-0.051862</td>\n    </tr>\n    <tr>\n      <th>1439405</th>\n      <td>93426</td>\n      <td>2023-10-01</td>\n      <td>-0.108993</td>\n      <td>12581.0</td>\n      <td>29.9200</td>\n      <td>376423.5200</td>\n      <td>381429.9000</td>\n      <td>0.004475</td>\n      <td>-0.028867</td>\n      <td>1</td>\n      <td>-0.113468</td>\n      <td>-0.033342</td>\n    </tr>\n    <tr>\n      <th>1439406</th>\n      <td>93426</td>\n      <td>2023-11-01</td>\n      <td>0.019051</td>\n      <td>12510.0</td>\n      <td>30.4900</td>\n      <td>381429.9000</td>\n      <td>426215.7000</td>\n      <td>0.004455</td>\n      <td>0.092057</td>\n      <td>1</td>\n      <td>0.014596</td>\n      <td>0.087602</td>\n    </tr>\n    <tr>\n      <th>1439407</th>\n      <td>93426</td>\n      <td>2023-12-01</td>\n      <td>0.117416</td>\n      <td>12510.0</td>\n      <td>34.0700</td>\n      <td>426215.7000</td>\n      <td>155670.9000</td>\n      <td>0.004484</td>\n      <td>0.053468</td>\n      <td>1</td>\n      <td>0.112932</td>\n      <td>0.048984</td>\n    </tr>\n  </tbody>\n</table>\n<p>1439408 rows × 12 columns</p>\n</div>"
     },
     "execution_count": 6,
     "metadata": {},
     "output_type": "execute_result"
    }
   ],
   "source": [
    "data"
   ],
   "metadata": {
    "collapsed": false
   }
  },
  {
   "cell_type": "markdown",
   "source": [
    "### Computing the betas"
   ],
   "metadata": {
    "collapsed": false
   }
  },
  {
   "cell_type": "code",
   "execution_count": 7,
   "outputs": [],
   "source": [
    "# 0. Remove nans\n",
    "data = data.dropna(subset=['mcap_l','Rn_e','Rm_e']).copy()\n",
    "\n",
    "# 2. Estimate Rolling Betas\n",
    "cov_nm = data.set_index('date').groupby('permno')[['Rn_e','Rm_e']].rolling(60, min_periods=36).cov()\n",
    "beta_n = (cov_nm.iloc[0::2,1].droplevel(2)/cov_nm.iloc[1::2,1].droplevel(2))\n",
    "beta_n = beta_n.dropna().reset_index().rename(columns={'Rm_e':'beta'})\n",
    "\n",
    "# 3. Merge With data\n",
    "beta_n['date'] = beta_n['date'] + pd.DateOffset(months=1)\n",
    "data = pd.merge(data, beta_n, on=['date','permno'], how='left')\n",
    "\n",
    "# 4. Drop raws that contain nan in column beta\n",
    "data = data.dropna(subset=['beta']).copy()"
   ],
   "metadata": {
    "collapsed": false
   }
  },
  {
   "cell_type": "code",
   "execution_count": 8,
   "outputs": [
    {
     "data": {
      "text/plain": "         permno       date      beta\n0         10001 2013-01-01  0.464682\n1         10001 2013-02-01  0.484416\n2         10001 2013-03-01  0.484182\n3         10001 2013-04-01  0.487155\n4         10001 2013-05-01  0.487298\n...         ...        ...       ...\n1131722   93426 2023-09-01  1.306562\n1131723   93426 2023-10-01  1.299385\n1131724   93426 2023-11-01  1.300548\n1131725   93426 2023-12-01  1.260036\n1131726   93426 2024-01-01  1.281620\n\n[1131727 rows x 3 columns]",
      "text/html": "<div>\n<style scoped>\n    .dataframe tbody tr th:only-of-type {\n        vertical-align: middle;\n    }\n\n    .dataframe tbody tr th {\n        vertical-align: top;\n    }\n\n    .dataframe thead th {\n        text-align: right;\n    }\n</style>\n<table border=\"1\" class=\"dataframe\">\n  <thead>\n    <tr style=\"text-align: right;\">\n      <th></th>\n      <th>permno</th>\n      <th>date</th>\n      <th>beta</th>\n    </tr>\n  </thead>\n  <tbody>\n    <tr>\n      <th>0</th>\n      <td>10001</td>\n      <td>2013-01-01</td>\n      <td>0.464682</td>\n    </tr>\n    <tr>\n      <th>1</th>\n      <td>10001</td>\n      <td>2013-02-01</td>\n      <td>0.484416</td>\n    </tr>\n    <tr>\n      <th>2</th>\n      <td>10001</td>\n      <td>2013-03-01</td>\n      <td>0.484182</td>\n    </tr>\n    <tr>\n      <th>3</th>\n      <td>10001</td>\n      <td>2013-04-01</td>\n      <td>0.487155</td>\n    </tr>\n    <tr>\n      <th>4</th>\n      <td>10001</td>\n      <td>2013-05-01</td>\n      <td>0.487298</td>\n    </tr>\n    <tr>\n      <th>...</th>\n      <td>...</td>\n      <td>...</td>\n      <td>...</td>\n    </tr>\n    <tr>\n      <th>1131722</th>\n      <td>93426</td>\n      <td>2023-09-01</td>\n      <td>1.306562</td>\n    </tr>\n    <tr>\n      <th>1131723</th>\n      <td>93426</td>\n      <td>2023-10-01</td>\n      <td>1.299385</td>\n    </tr>\n    <tr>\n      <th>1131724</th>\n      <td>93426</td>\n      <td>2023-11-01</td>\n      <td>1.300548</td>\n    </tr>\n    <tr>\n      <th>1131725</th>\n      <td>93426</td>\n      <td>2023-12-01</td>\n      <td>1.260036</td>\n    </tr>\n    <tr>\n      <th>1131726</th>\n      <td>93426</td>\n      <td>2024-01-01</td>\n      <td>1.281620</td>\n    </tr>\n  </tbody>\n</table>\n<p>1131727 rows × 3 columns</p>\n</div>"
     },
     "execution_count": 8,
     "metadata": {},
     "output_type": "execute_result"
    }
   ],
   "source": [
    "beta_n"
   ],
   "metadata": {
    "collapsed": false
   }
  },
  {
   "cell_type": "code",
   "execution_count": 9,
   "outputs": [
    {
     "name": "stdout",
     "output_type": "stream",
     "text": [
      "1118617\n"
     ]
    },
    {
     "data": {
      "text/plain": "1118617"
     },
     "execution_count": 9,
     "metadata": {},
     "output_type": "execute_result"
    }
   ],
   "source": [
    "#count beta not nan\n",
    "print(data['beta'].count())\n",
    "\n",
    "len(data['beta'])"
   ],
   "metadata": {
    "collapsed": false
   }
  },
  {
   "cell_type": "markdown",
   "source": [
    "### Computing the idiosyncratic volatility"
   ],
   "metadata": {
    "collapsed": false
   }
  },
  {
   "cell_type": "code",
   "execution_count": null,
   "outputs": [],
   "source": [
    "# 5. Calculate IV:\n",
    "# Calculate the predicted return\n",
    "data['predicted_return'] = data['beta'] * data['Rm_e']\n",
    "\n",
    "# Calculate the residuals\n",
    "data['residuals'] = data['Rn_e'] - data['predicted_return']\n",
    "\n",
    "# Calculate the rolling standard deviation of the residuals\n",
    "idiosyncratic_volatility = data.set_index('date').groupby('permno')['residuals'].rolling(window=60, min_periods=36).std()\n",
    "\n",
    "# Reset the index of the idiosyncratic_volatility Series\n",
    "idiosyncratic_volatility = idiosyncratic_volatility.reset_index()\n",
    "\n",
    "# Rename the 0 column to 'idiosyncratic_volatility'\n",
    "idiosyncratic_volatility = idiosyncratic_volatility.rename(columns={\"residuals\": 'idiosyncratic_volatility'})\n",
    "\n",
    "# Merge the idiosyncratic_volatility DataFrame with the original data DataFrame\n",
    "data = pd.merge(data, idiosyncratic_volatility, on=['date', 'permno'], how='left')\n",
    "\n",
    "# Drop the intermediate columns\n",
    "data = data.drop(columns=['predicted_return', 'residuals'])\n",
    "\n",
    "# Drop nans in the idiosyncratic_volatility column\n",
    "data = data.dropna(subset=['idiosyncratic_volatility']).copy()\n",
    "\n",
    "# 4. Remove outliers\n",
    "data['idiosyncratic_volatility'] = data['idiosyncratic_volatility'].clip(data['idiosyncratic_volatility'].quantile(0.05),data['idiosyncratic_volatility'].quantile(0.95))"
   ],
   "metadata": {
    "collapsed": false
   }
  },
  {
   "cell_type": "code",
   "execution_count": null,
   "outputs": [],
   "source": [
    "data"
   ],
   "metadata": {
    "collapsed": false
   }
  },
  {
   "cell_type": "markdown",
   "source": [
    "## Sorting"
   ],
   "metadata": {
    "collapsed": false
   }
  },
  {
   "cell_type": "code",
   "execution_count": null,
   "outputs": [],
   "source": [
    "data['IV_Q'] = data.groupby('date')['idiosyncratic_volatility'].transform(lambda x: pd.qcut(x, 10,labels=False, duplicates='drop'))\n",
    "\n",
    "# 2. Market Weights within deciles\n",
    "data['vw_Q'] = data['mcap']/data.groupby(['date','IV_Q'])['mcap'].transform('sum')\n",
    "\n",
    "# 3. VW Portfolios\n",
    "data['IV_ret_vw'] = data['vw_Q']*data['Rn']\n",
    "ret_vw = data.groupby(['date','IV_Q'])['IV_ret_vw'].sum().reset_index()\n",
    "vw_ret_mean = ret_vw.groupby('IV_Q')['IV_ret_vw'].mean()\n",
    "\n",
    "# 4. Equal-Weighted portfolios\n",
    "ret_ew = data.groupby(['date','IV_Q'])['Rn'].mean().reset_index()\n",
    "ew_ret_mean = ret_ew.groupby('IV_Q')['Rn'].mean()"
   ],
   "metadata": {
    "collapsed": false
   }
  },
  {
   "cell_type": "code",
   "execution_count": null,
   "outputs": [],
   "source": [
    "# Calculate standard deviations\n",
    "vw_ret_std = ret_vw.groupby('IV_Q')['IV_ret_vw'].std()\n",
    "ew_ret_std = ret_ew.groupby('IV_Q')['Rn'].std()\n",
    "\n",
    "# Calculate Sharpe Ratios\n",
    "\n",
    "# compute the risk-free rate\n",
    "rf = data.groupby(['date', 'IV_Q'])['rf'].mean().reset_index()\n",
    "\n",
    "# compute the excess returns\n",
    "ret_vw['excess'] = ret_vw['IV_ret_vw'] - rf['rf']\n",
    "ret_ew['excess'] = ret_ew['Rn'] - rf['rf']\n",
    "\n",
    "# compute the Sharpe Ratios\n",
    "vw_sharpe_ratio = ret_vw.groupby('IV_Q')['excess'].mean() / vw_ret_std\n",
    "ew_sharpe_ratio = ret_ew.groupby('IV_Q')['excess'].mean() / ew_ret_std\n",
    "\n",
    "\n",
    "# 5. Plot Histograms\n",
    "deciles = ['D' + str(x) for x in np.arange(1, 11)]\n",
    "\n",
    "#save plots\n",
    "# Plot VW mean returns\n",
    "plt.bar(deciles, vw_ret_mean * 12)\n",
    "plt.title('Value-Weighted Deciles Mean Returns (Annualized)')\n",
    "plt.xlabel('Deciles')\n",
    "plt.ylabel('Mean Return')\n",
    "plt.savefig('vw_ret_mean.png')\n",
    "plt.show()\n",
    "\n",
    "# Plot EW mean returns\n",
    "plt.bar(deciles, ew_ret_mean * 12)\n",
    "plt.title('Equal-Weighted Deciles Mean Returns (Annualized)')\n",
    "plt.xlabel('Deciles')\n",
    "plt.ylabel('Mean Return')\n",
    "plt.savefig('ew_ret_mean.png')\n",
    "plt.show()\n",
    "\n",
    "# Plot VW standard deviations\n",
    "plt.bar(deciles, vw_ret_std * np.sqrt(12))\n",
    "plt.title('Value-Weighted Deciles Standard Deviation (Annualized)')\n",
    "plt.xlabel('Deciles')\n",
    "plt.ylabel('Standard Deviation')\n",
    "plt.savefig('vw_ret_std.png')\n",
    "plt.show()\n",
    "\n",
    "# Plot EW standard deviations\n",
    "plt.bar(deciles, ew_ret_std * np.sqrt(12))\n",
    "plt.title('Equal-Weighted Deciles Standard Deviation (Annualized)')\n",
    "plt.xlabel('Deciles')\n",
    "plt.ylabel('Standard Deviation')\n",
    "plt.savefig('ew_ret_std.png')\n",
    "plt.show()\n",
    "\n",
    "# Plot VW Sharpe ratios\n",
    "plt.bar(deciles, vw_sharpe_ratio * np.sqrt(12))\n",
    "plt.title('Value-Weighted Deciles Sharpe Ratios')\n",
    "plt.xlabel('Deciles')\n",
    "plt.ylabel('Sharpe Ratio')\n",
    "plt.savefig('vw_sharpe_ratio.png')\n",
    "plt.show()\n",
    "\n",
    "# Plot EW Sharpe ratios\n",
    "plt.bar(deciles, ew_sharpe_ratio * np.sqrt(12))\n",
    "plt.title('Equal-Weighted Deciles Sharpe Ratios')\n",
    "plt.xlabel('Deciles')\n",
    "plt.ylabel('Sharpe Ratio')\n",
    "plt.savefig('ew_sharpe_ratio.png')\n",
    "plt.show()"
   ],
   "metadata": {
    "collapsed": false
   }
  },
  {
   "cell_type": "markdown",
   "source": [
    "### Factor creation"
   ],
   "metadata": {
    "collapsed": false
   }
  },
  {
   "cell_type": "code",
   "execution_count": null,
   "outputs": [],
   "source": [
    "# 1. Compute the long and short legs of the strategy\n",
    "long_leg = data[data['IV_Q'] >= 7].groupby('date')['Rn'].sum().reset_index()\n",
    "short_leg = data[data['IV_Q'] <= 3].groupby('date')['Rn'].sum().reset_index()\n",
    "\n",
    "# 2. Compute the excess returns\n",
    "rf = data.groupby(['date', 'IV_Q'])['rf'].mean().reset_index()\n",
    "\n",
    "long_leg['excess'] = long_leg['Rn'] - rf['rf']\n",
    "short_leg['excess'] = short_leg['Rn'] - rf['rf']\n",
    "\n",
    "# 3. Compute the mean, excess mean, standard deviation, and Sharpe ratios\n",
    "long_mean = long_leg['Rn'].mean()\n",
    "short_mean = short_leg['Rn'].mean()\n",
    "\n",
    "long_mean_e = long_leg['excess'].mean()\n",
    "short_mean_e = short_leg['excess'].mean()\n",
    "\n",
    "long_std = long_leg['Rn'].std()\n",
    "short_std = short_leg['Rn'].std()\n",
    "\n",
    "long_sharpe_ratio = long_mean_e / long_std\n",
    "short_sharpe_ratio = short_mean_e / short_std\n",
    "\n",
    "# Long minus short factor strategy\n",
    "factor = long_leg - short_leg\n",
    "factor['excess'] = factor['Rn'] - rf['rf']\n",
    "\n",
    "factor_mean = factor['Rn'].mean()\n",
    "factor_mean_e = factor['excess'].mean()\n",
    "factor_std = factor['Rn'].std()\n",
    "factor_sharpe_ratio = factor_mean_e / factor_std\n",
    "\n",
    "# 4. Print the results\n",
    "print('Long Leg Mean Return:', long_mean)\n",
    "print('Short Leg Mean Return:', short_mean)\n",
    "print('Long Leg Standard Deviation:', long_std)\n",
    "print('Short Leg Standard Deviation:', short_std)\n",
    "print('Long Leg Sharpe Ratio:', long_sharpe_ratio)\n",
    "print('Short Leg Sharpe Ratio:', short_sharpe_ratio)\n",
    "print('Factor Mean Return:', factor_mean)\n",
    "print('Factor Standard Deviation:', factor_std)\n",
    "print('Factor Sharpe Ratio:', factor_sharpe_ratio)"
   ],
   "metadata": {
    "collapsed": false
   }
  },
  {
   "cell_type": "code",
   "execution_count": null,
   "outputs": [],
   "source": [
    "import scipy.stats as stats\n",
    "\n",
    "# Test if the factor strategy has an average return that is statistically significantly different from zero\n",
    "\n",
    "# 1. Compute the t-statistic\n",
    "t_stat = factor_mean / (factor_std / np.sqrt(len(factor)))\n",
    "\n",
    "# 2. Compute the p-value\n",
    "p_value = 1 - stats.norm.cdf(t_stat)\n",
    "\n",
    "# 3. Print the results\n",
    "print('T-Statistic:', t_stat)\n",
    "print('P-Value:', p_value)\n",
    "\n",
    "# 4. Check if the p-value is less than 0.05\n",
    "if p_value < 0.05:\n",
    "    print('The factor strategy has an average return that is statistically significantly different from zero.')\n",
    "else:\n",
    "    print('The factor strategy does not have an average return that is statistically significantly different from zero.')\n"
   ],
   "metadata": {
    "collapsed": false
   }
  },
  {
   "cell_type": "code",
   "execution_count": null,
   "outputs": [],
   "source": [],
   "metadata": {
    "collapsed": false
   }
  }
 ],
 "metadata": {
  "language_info": {
   "name": "python"
  },
  "kernelspec": {
   "name": "conda-env-assMNLP-py",
   "language": "python",
   "display_name": "Python [conda env:assMNLP] *"
  }
 },
 "nbformat": 4,
 "nbformat_minor": 2
}
