{
 "cells": [
  {
   "cell_type": "code",
   "execution_count": 1,
   "id": "initial_id",
   "metadata": {
    "collapsed": true,
    "ExecuteTime": {
     "end_time": "2024-06-04T13:48:32.902134Z",
     "start_time": "2024-06-04T13:48:31.255676Z"
    }
   },
   "outputs": [],
   "source": [
    "import numpy as np\n",
    "import matplotlib.pyplot as plt\n",
    "import pandas as pd\n",
    "import datetime as dt"
   ]
  },
  {
   "cell_type": "code",
   "outputs": [
    {
     "data": {
      "text/plain": "         permno        date        Rn    shrout      prc          mcap  \\\n0         10092  2000-09-29 -0.196429   11865.0  16.8750  2.002219e+05   \n1         10092  2000-10-31 -0.144444   11865.0  14.4375  1.713009e+05   \n2         10092  2000-11-30 -0.251082   12080.0  10.8125  1.306150e+05   \n3         10092  2000-12-29 -0.173410   12080.0   8.9375  1.079650e+05   \n4         10092  2001-01-31  0.588811   12080.0  14.2000  1.715360e+05   \n...         ...         ...       ...       ...      ...           ...   \n1470782   92567  1989-06-30  0.082279  110738.0  21.3750  2.367025e+06   \n1470783   92567  1989-07-31  0.040936  110738.0  22.2500  2.463920e+06   \n1470784   92567  1989-08-31 -0.106742  110738.0  19.8750  2.200918e+06   \n1470785   92567  1989-09-29  0.339623  110738.0  26.6250  2.948399e+06   \n1470786   92567  1989-10-31  0.009390  110738.0  26.8750  2.976084e+06   \n\n               mcap_l        rf        Rm  const      Rn_e      Rm_e  \n0                 NaN  0.004933 -0.051154      1 -0.201362 -0.056087  \n1        2.002219e+05  0.005023 -0.024480      1 -0.149467 -0.029503  \n2        1.713009e+05  0.005099 -0.102365      1 -0.256181 -0.107464  \n3        1.306150e+05  0.004808  0.020450      1 -0.178218  0.015642  \n4        1.079650e+05  0.004023  0.039573      1  0.584788  0.035550  \n...               ...       ...       ...    ...       ...       ...  \n1470782  2.186838e+06  0.006879 -0.004856      1  0.075400 -0.011735  \n1470783  2.367025e+06  0.006536  0.077128      1  0.034400  0.070592  \n1470784  2.463920e+06  0.006488  0.022126      1 -0.113230  0.015638  \n1470785  2.200918e+06  0.006461 -0.001473      1  0.333162 -0.007934  \n1470786  2.948399e+06  0.006408 -0.029285      1  0.002982 -0.035693  \n\n[1470787 rows x 12 columns]",
      "text/html": "<div>\n<style scoped>\n    .dataframe tbody tr th:only-of-type {\n        vertical-align: middle;\n    }\n\n    .dataframe tbody tr th {\n        vertical-align: top;\n    }\n\n    .dataframe thead th {\n        text-align: right;\n    }\n</style>\n<table border=\"1\" class=\"dataframe\">\n  <thead>\n    <tr style=\"text-align: right;\">\n      <th></th>\n      <th>permno</th>\n      <th>date</th>\n      <th>Rn</th>\n      <th>shrout</th>\n      <th>prc</th>\n      <th>mcap</th>\n      <th>mcap_l</th>\n      <th>rf</th>\n      <th>Rm</th>\n      <th>const</th>\n      <th>Rn_e</th>\n      <th>Rm_e</th>\n    </tr>\n  </thead>\n  <tbody>\n    <tr>\n      <th>0</th>\n      <td>10092</td>\n      <td>2000-09-29</td>\n      <td>-0.196429</td>\n      <td>11865.0</td>\n      <td>16.8750</td>\n      <td>2.002219e+05</td>\n      <td>NaN</td>\n      <td>0.004933</td>\n      <td>-0.051154</td>\n      <td>1</td>\n      <td>-0.201362</td>\n      <td>-0.056087</td>\n    </tr>\n    <tr>\n      <th>1</th>\n      <td>10092</td>\n      <td>2000-10-31</td>\n      <td>-0.144444</td>\n      <td>11865.0</td>\n      <td>14.4375</td>\n      <td>1.713009e+05</td>\n      <td>2.002219e+05</td>\n      <td>0.005023</td>\n      <td>-0.024480</td>\n      <td>1</td>\n      <td>-0.149467</td>\n      <td>-0.029503</td>\n    </tr>\n    <tr>\n      <th>2</th>\n      <td>10092</td>\n      <td>2000-11-30</td>\n      <td>-0.251082</td>\n      <td>12080.0</td>\n      <td>10.8125</td>\n      <td>1.306150e+05</td>\n      <td>1.713009e+05</td>\n      <td>0.005099</td>\n      <td>-0.102365</td>\n      <td>1</td>\n      <td>-0.256181</td>\n      <td>-0.107464</td>\n    </tr>\n    <tr>\n      <th>3</th>\n      <td>10092</td>\n      <td>2000-12-29</td>\n      <td>-0.173410</td>\n      <td>12080.0</td>\n      <td>8.9375</td>\n      <td>1.079650e+05</td>\n      <td>1.306150e+05</td>\n      <td>0.004808</td>\n      <td>0.020450</td>\n      <td>1</td>\n      <td>-0.178218</td>\n      <td>0.015642</td>\n    </tr>\n    <tr>\n      <th>4</th>\n      <td>10092</td>\n      <td>2001-01-31</td>\n      <td>0.588811</td>\n      <td>12080.0</td>\n      <td>14.2000</td>\n      <td>1.715360e+05</td>\n      <td>1.079650e+05</td>\n      <td>0.004023</td>\n      <td>0.039573</td>\n      <td>1</td>\n      <td>0.584788</td>\n      <td>0.035550</td>\n    </tr>\n    <tr>\n      <th>...</th>\n      <td>...</td>\n      <td>...</td>\n      <td>...</td>\n      <td>...</td>\n      <td>...</td>\n      <td>...</td>\n      <td>...</td>\n      <td>...</td>\n      <td>...</td>\n      <td>...</td>\n      <td>...</td>\n      <td>...</td>\n    </tr>\n    <tr>\n      <th>1470782</th>\n      <td>92567</td>\n      <td>1989-06-30</td>\n      <td>0.082279</td>\n      <td>110738.0</td>\n      <td>21.3750</td>\n      <td>2.367025e+06</td>\n      <td>2.186838e+06</td>\n      <td>0.006879</td>\n      <td>-0.004856</td>\n      <td>1</td>\n      <td>0.075400</td>\n      <td>-0.011735</td>\n    </tr>\n    <tr>\n      <th>1470783</th>\n      <td>92567</td>\n      <td>1989-07-31</td>\n      <td>0.040936</td>\n      <td>110738.0</td>\n      <td>22.2500</td>\n      <td>2.463920e+06</td>\n      <td>2.367025e+06</td>\n      <td>0.006536</td>\n      <td>0.077128</td>\n      <td>1</td>\n      <td>0.034400</td>\n      <td>0.070592</td>\n    </tr>\n    <tr>\n      <th>1470784</th>\n      <td>92567</td>\n      <td>1989-08-31</td>\n      <td>-0.106742</td>\n      <td>110738.0</td>\n      <td>19.8750</td>\n      <td>2.200918e+06</td>\n      <td>2.463920e+06</td>\n      <td>0.006488</td>\n      <td>0.022126</td>\n      <td>1</td>\n      <td>-0.113230</td>\n      <td>0.015638</td>\n    </tr>\n    <tr>\n      <th>1470785</th>\n      <td>92567</td>\n      <td>1989-09-29</td>\n      <td>0.339623</td>\n      <td>110738.0</td>\n      <td>26.6250</td>\n      <td>2.948399e+06</td>\n      <td>2.200918e+06</td>\n      <td>0.006461</td>\n      <td>-0.001473</td>\n      <td>1</td>\n      <td>0.333162</td>\n      <td>-0.007934</td>\n    </tr>\n    <tr>\n      <th>1470786</th>\n      <td>92567</td>\n      <td>1989-10-31</td>\n      <td>0.009390</td>\n      <td>110738.0</td>\n      <td>26.8750</td>\n      <td>2.976084e+06</td>\n      <td>2.948399e+06</td>\n      <td>0.006408</td>\n      <td>-0.029285</td>\n      <td>1</td>\n      <td>0.002982</td>\n      <td>-0.035693</td>\n    </tr>\n  </tbody>\n</table>\n<p>1470787 rows × 12 columns</p>\n</div>"
     },
     "execution_count": 5,
     "metadata": {},
     "output_type": "execute_result"
    }
   ],
   "source": [
    "# Load data\n",
    "data = pd.read_csv('S4_data.csv', delimiter=';')\n",
    "data"
   ],
   "metadata": {
    "collapsed": false,
    "ExecuteTime": {
     "end_time": "2024-06-04T14:00:15.601660Z",
     "start_time": "2024-06-04T14:00:13.802857Z"
    }
   },
   "id": "2a74fba776caf8e1",
   "execution_count": 5
  },
  {
   "cell_type": "code",
   "outputs": [],
   "source": [
    "data.groupby('Name"
   ],
   "metadata": {
    "collapsed": false
   },
   "id": "5bf0ca4bf708f5f4"
  }
 ],
 "metadata": {
  "kernelspec": {
   "display_name": "Python 3",
   "language": "python",
   "name": "python3"
  },
  "language_info": {
   "codemirror_mode": {
    "name": "ipython",
    "version": 2
   },
   "file_extension": ".py",
   "mimetype": "text/x-python",
   "name": "python",
   "nbconvert_exporter": "python",
   "pygments_lexer": "ipython2",
   "version": "2.7.6"
  }
 },
 "nbformat": 4,
 "nbformat_minor": 5
}
